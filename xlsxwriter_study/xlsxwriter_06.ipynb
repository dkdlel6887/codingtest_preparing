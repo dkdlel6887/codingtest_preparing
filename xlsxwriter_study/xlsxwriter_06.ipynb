{
 "cells": [
  {
   "cell_type": "markdown",
   "id": "466ddb40",
   "metadata": {},
   "source": [
    "### 한글파일 읽어오기"
   ]
  },
  {
   "cell_type": "code",
   "execution_count": 2,
   "id": "5bdf8cb4",
   "metadata": {},
   "outputs": [
    {
     "name": "stderr",
     "output_type": "stream",
     "text": [
      "ERROR: Invalid requirement: '#'\n"
     ]
    },
    {
     "name": "stdout",
     "output_type": "stream",
     "text": [
      "Requirement already satisfied: ole-py in c:\\users\\user\\anaconda3\\lib\\site-packages (1.1.2)\n"
     ]
    }
   ],
   "source": [
    "!pip install olefile  # 워드같은 텍스트를 편집하고 읽는 기능\n",
    "!pip install ole-py\n",
    " # https://pypi.org/project/olefile/"
   ]
  },
  {
   "cell_type": "code",
   "execution_count": 3,
   "id": "219fb1f7",
   "metadata": {},
   "outputs": [
    {
     "data": {
      "text/plain": [
       "['__builtins__',\n",
       " '__cached__',\n",
       " '__doc__',\n",
       " '__file__',\n",
       " '__loader__',\n",
       " '__name__',\n",
       " '__package__',\n",
       " '__path__',\n",
       " '__spec__',\n",
       " 'constants',\n",
       " 'file',\n",
       " 'open',\n",
       " 'storage',\n",
       " 'stream',\n",
       " 'structures',\n",
       " 'utils']"
      ]
     },
     "execution_count": 3,
     "metadata": {},
     "output_type": "execute_result"
    }
   ],
   "source": [
    "import ole\n",
    "dir(ole)"
   ]
  },
  {
   "cell_type": "code",
   "execution_count": 87,
   "id": "45399a35",
   "metadata": {},
   "outputs": [
    {
     "name": "stdout",
     "output_type": "stream",
     "text": [
      "('FileHeader', '\\x05HwpSummaryInformation', 'DocInfo', 'PrvImage', 'PrvText', 'Scripts/JScriptVersion', 'Scripts/DefaultJScript', 'DocOptions/_LinkDoc', 'BodyText/Section0')\n",
      "========================================\n",
      "이  력  서\r\n",
      "<인적사항><성          명><홍길동><생  년  월  일><1993년 8월 13일><현    주    소><제주특별자치도 제주시><연    락    처><010-2233-1478><이    메    일><ab8ab@naver.com>\r\n",
      "\r\n",
      "<학력사항><학교명><전공><성적><졸업구분><소재지><건국대학교><컴퓨터공학과><4.1/4.5><졸업><서울>\r\n",
      "\r\n",
      "<자격면허><자격면허증명><시행기관><취득년월><TOEIC><점수><정보처리기사><한국산업인력공단><19.05.22><725점><한국사능력검정 1급><국사편찬위원회><19.08.23>\r\n",
      "\r\n",
      "<교육 / 활동 / 수상><기간><활동 내용><병역사항><군필여부><군필><19.11 ~ 20.03><빅데이터 전략 마에스트로><군별><육군><><><계급><병장><><><복무기간><15.02~16.11>\r\n",
      "\r\n",
      "<컴퓨터 언어   능력 (상/중/하)><R><Python><Javascript><SQL><HTML/CSS><상><중><중><하><하>\r\n",
      "\r\n",
      "위의 내용은 사실과 틀림없음을 확인합니다.\r\n",
      "\r\n",
      "2020년 5월 11일 성명 : 홍길동\r\n",
      "\n"
     ]
    }
   ],
   "source": [
    "with ole.open(r'C:\\Users\\User\\Desktop\\코공딩부\\xlsxwriter_study\\xlsxwriter_data\\___\\____1.hwp') as f:\n",
    "    print(f.list_streams())\n",
    "    print('='*40)\n",
    "    data = f.get_stream('PrvText').read().decode('utf-16le')\n",
    "    print(data)"
   ]
  },
  {
   "cell_type": "code",
   "execution_count": 88,
   "id": "482dc0df",
   "metadata": {},
   "outputs": [
    {
     "data": {
      "text/plain": [
       "['이  력  서\\r\\n<인적사항',\n",
       " '성          명',\n",
       " '홍길동',\n",
       " '생  년  월  일',\n",
       " '1993년 8월 13일',\n",
       " '현    주    소',\n",
       " '제주특별자치도 제주시',\n",
       " '연    락    처',\n",
       " '010-2233-1478',\n",
       " '이    메    일',\n",
       " 'ab8ab@naver.com>\\r\\n\\r\\n<학력사항',\n",
       " '학교명',\n",
       " '전공',\n",
       " '성적',\n",
       " '졸업구분',\n",
       " '소재지',\n",
       " '건국대학교',\n",
       " '컴퓨터공학과',\n",
       " '4.1/4.5',\n",
       " '졸업',\n",
       " '서울>\\r\\n\\r\\n<자격면허',\n",
       " '자격면허증명',\n",
       " '시행기관',\n",
       " '취득년월',\n",
       " 'TOEIC',\n",
       " '점수',\n",
       " '정보처리기사',\n",
       " '한국산업인력공단',\n",
       " '19.05.22',\n",
       " '725점',\n",
       " '한국사능력검정 1급',\n",
       " '국사편찬위원회',\n",
       " '19.08.23>\\r\\n\\r\\n<교육 / 활동 / 수상',\n",
       " '기간',\n",
       " '활동 내용',\n",
       " '병역사항',\n",
       " '군필여부',\n",
       " '군필',\n",
       " '19.11 ~ 20.03',\n",
       " '빅데이터 전략 마에스트로',\n",
       " '군별',\n",
       " '육군',\n",
       " '',\n",
       " '',\n",
       " '계급',\n",
       " '병장',\n",
       " '',\n",
       " '',\n",
       " '복무기간',\n",
       " '15.02~16.11>\\r\\n\\r\\n<컴퓨터 언어   능력 (상/중/하)',\n",
       " 'R',\n",
       " 'Python',\n",
       " 'Javascript',\n",
       " 'SQL',\n",
       " 'HTML/CSS',\n",
       " '상',\n",
       " '중',\n",
       " '중',\n",
       " '하',\n",
       " '하>\\r\\n\\r\\n위의 내용은 사실과 틀림없음을 확인합니다.\\r\\n\\r\\n2020년 5월 11일 성명 : 홍길동\\r\\n']"
      ]
     },
     "execution_count": 88,
     "metadata": {},
     "output_type": "execute_result"
    }
   ],
   "source": [
    "splitdata = data.split('><')  #  ><를 구분자로 하여 리스트 형태로 표시\n",
    "splitdata"
   ]
  },
  {
   "cell_type": "code",
   "execution_count": 6,
   "id": "52c6ce9d",
   "metadata": {},
   "outputs": [
    {
     "data": {
      "text/plain": [
       "1"
      ]
     },
     "execution_count": 6,
     "metadata": {},
     "output_type": "execute_result"
    }
   ],
   "source": [
    "splitdata.index('성          명')  # ()안에 값의 인덱스(위치)를 반환"
   ]
  },
  {
   "cell_type": "code",
   "execution_count": 7,
   "id": "c8158e6a",
   "metadata": {},
   "outputs": [
    {
     "data": {
      "text/plain": [
       "'홍길동'"
      ]
     },
     "execution_count": 7,
     "metadata": {},
     "output_type": "execute_result"
    }
   ],
   "source": [
    "splitdata[splitdata.index('성          명') + 1]"
   ]
  },
  {
   "cell_type": "code",
   "execution_count": 8,
   "id": "7a14bbe8",
   "metadata": {},
   "outputs": [],
   "source": [
    "privacyIndexData = [     # 개인정보 포함하는 속성들\n",
    "    '성          명',\n",
    "    '생  년  월  일',\n",
    "    '현    주    소',\n",
    "    '연    락    처',\n",
    "    '이    메    일'\n",
    "]"
   ]
  },
  {
   "cell_type": "code",
   "execution_count": 9,
   "id": "b97c9669",
   "metadata": {},
   "outputs": [
    {
     "data": {
      "text/plain": [
       "['홍길동',\n",
       " '1993년 8월 13일',\n",
       " '제주특별자치도 제주시',\n",
       " '010-2233-1478',\n",
       " 'ab8ab@naver.com>\\r\\n\\r\\n<학력사항']"
      ]
     },
     "execution_count": 9,
     "metadata": {},
     "output_type": "execute_result"
    }
   ],
   "source": [
    "result = []\n",
    "for i in range(len(splitdata)):\n",
    "    for j in range(len(privacyIndexData)):\n",
    "        if splitdata[i] == privacyIndexData[j]:  \n",
    "        # 개인정보리스트 값과 전체 데이터리스트 값이 일치하면 결과값 저장\n",
    "            result.append(splitdata[i+1])\n",
    "result"
   ]
  },
  {
   "cell_type": "code",
   "execution_count": 12,
   "id": "cf3af33d",
   "metadata": {},
   "outputs": [
    {
     "data": {
      "text/plain": [
       "['홍길동', '1993년 8월 13일', '제주특별자치도 제주시', '010-2233-1478', 'ab8ab@naver.com']"
      ]
     },
     "execution_count": 12,
     "metadata": {},
     "output_type": "execute_result"
    }
   ],
   "source": [
    "result = []\n",
    "for i in range(len(splitdata)):\n",
    "    for j in range(len(privacyIndexData)):\n",
    "        if splitdata[i] == '이    메    일':\n",
    "            emailSplitFindIndex = splitdata[i+1].find('>')\n",
    "            result.append(splitdata[i+1][:emailSplitFindIndex])  # 이메일 부분 불필요한 공백문자 제외\n",
    "            break  # 마지막으로 이메일을 문제없이 저장했을 시 for문 종료\n",
    "        if splitdata[i] == privacyIndexData[j]:  # 개인정보리스트 값과 전체 데이터리스트 값이 일치하면\n",
    "            result.append(splitdata[i+1])\n",
    "result"
   ]
  },
  {
   "cell_type": "code",
   "execution_count": 89,
   "id": "23438da2",
   "metadata": {},
   "outputs": [
    {
     "data": {
      "text/plain": [
       "['이  력  서\\r\\n<인적사항',\n",
       " '성          명',\n",
       " '홍길동',\n",
       " '생  년  월  일',\n",
       " '1993년 8월 13일',\n",
       " '현    주    소',\n",
       " '제주특별자치도 제주시',\n",
       " '연    락    처',\n",
       " '010-2233-1478',\n",
       " '이    메    일',\n",
       " 'ab8ab@naver.com>\\r\\n\\r\\n<학력사항',\n",
       " '학교명',\n",
       " '전공',\n",
       " '성적',\n",
       " '졸업구분',\n",
       " '소재지',\n",
       " '건국대학교',\n",
       " '컴퓨터공학과',\n",
       " '4.1/4.5',\n",
       " '졸업',\n",
       " '서울>\\r\\n\\r\\n<자격면허',\n",
       " '자격면허증명',\n",
       " '시행기관',\n",
       " '취득년월',\n",
       " 'TOEIC',\n",
       " '점수',\n",
       " '정보처리기사',\n",
       " '한국산업인력공단',\n",
       " '19.05.22',\n",
       " '725점',\n",
       " '한국사능력검정 1급',\n",
       " '국사편찬위원회',\n",
       " '19.08.23>\\r\\n\\r\\n<교육 / 활동 / 수상',\n",
       " '기간',\n",
       " '활동 내용',\n",
       " '병역사항',\n",
       " '군필여부',\n",
       " '군필',\n",
       " '19.11 ~ 20.03',\n",
       " '빅데이터 전략 마에스트로',\n",
       " '군별',\n",
       " '육군',\n",
       " '',\n",
       " '',\n",
       " '계급',\n",
       " '병장',\n",
       " '',\n",
       " '',\n",
       " '복무기간',\n",
       " '15.02~16.11>\\r\\n\\r\\n<컴퓨터 언어   능력 (상/중/하)',\n",
       " 'R',\n",
       " 'Python',\n",
       " 'Javascript',\n",
       " 'SQL',\n",
       " 'HTML/CSS',\n",
       " '상',\n",
       " '중',\n",
       " '중',\n",
       " '하',\n",
       " '하>\\r\\n\\r\\n위의 내용은 사실과 틀림없음을 확인합니다.\\r\\n\\r\\n2020년 5월 11일 성명 : 홍길동\\r\\n']"
      ]
     },
     "execution_count": 89,
     "metadata": {},
     "output_type": "execute_result"
    }
   ],
   "source": [
    "splitdata"
   ]
  },
  {
   "cell_type": "code",
   "execution_count": 17,
   "id": "3e0f9977",
   "metadata": {},
   "outputs": [],
   "source": [
    "UnivIndexData = [     # 학교정보 포함하는 속성들\n",
    "    '학교명',\n",
    "    '전공',\n",
    "    '성적',\n",
    "    '졸업구분',\n",
    "    '소재지'\n",
    "]"
   ]
  },
  {
   "cell_type": "code",
   "execution_count": 21,
   "id": "40219593",
   "metadata": {},
   "outputs": [
    {
     "data": {
      "text/plain": [
       "['건국대학교', '컴퓨터공학과', 10, '졸업', '건국']"
      ]
     },
     "execution_count": 21,
     "metadata": {},
     "output_type": "execute_result"
    }
   ],
   "source": [
    "result2 = []\n",
    "for i in range(len(splitdata)):\n",
    "    for j in range(len(UnivIndexData)):\n",
    "        if splitdata[i] == '성적':\n",
    "            score = float(splitdata[i+5].replace('/4.5',''))  # 학점 계산위해 실제점수만 실수화\n",
    "            if score >= 4.0:\n",
    "                result2.append(10)\n",
    "                break\n",
    "            elif score >= 3.7:\n",
    "                result2.append(9)\n",
    "                break\n",
    "            elif score > 3.5:\n",
    "                result2.append(8)\n",
    "                break\n",
    "            elif score > 3.0:\n",
    "                result2.append(7)\n",
    "                break\n",
    "            else: \n",
    "                result2.append(6)\n",
    "                break\n",
    "        if splitdata[i] == '소재지':\n",
    "            locSplitFindIndex = splitdata[i+5].find('>')\n",
    "            result2.append(splitdata[i+1][:locSplitFindIndex])  # 소재지 부분 불필요한 공백문자 제외\n",
    "            break  # 마지막으로 소재지를 문제없이 저장했을 시 for문 종료\n",
    "            \n",
    "        if splitdata[i] == UnivIndexData[j]:  # 학교정보리스트 값과 전체 데이터리스트 값이 일치하면\n",
    "            result2.append(splitdata[i+5])\n",
    "result2"
   ]
  },
  {
   "cell_type": "code",
   "execution_count": 95,
   "id": "97ca0377",
   "metadata": {},
   "outputs": [
    {
     "name": "stdout",
     "output_type": "stream",
     "text": [
      "['홍길동', '1993년 8월 13일', '제주특별자치도 제주시', '010-2233-1478', 'ab8ab@naver.com']\n",
      "['건국대학교', '컴퓨터공학과', 10, '졸업', '건국']\n",
      "[725, 9]\n",
      "[['정보처리기사', '한국산업인력공단', '19.05.22', '한국사능력검정 1급', '국사편찬위원회', '19.08.23'], ['정보처리기사', '한국사능력검정 1급'], 5]\n",
      "[['빅데이터 전략 마에스트로'], 2]\n",
      "['군필', '육군', '병장', '15.02~16.11']\n",
      "['상', '중', '중', '하', '하', 7.0]\n"
     ]
    }
   ],
   "source": [
    "def PrivacyInfo(splitdata):\n",
    "    privacyIdx = [     # 개인정보 포함하는 속성들\n",
    "    '성          명',\n",
    "    '생  년  월  일',\n",
    "    '현    주    소',\n",
    "    '연    락    처',\n",
    "    '이    메    일'\n",
    "    ]\n",
    "    result = []\n",
    "    for i in range(len(splitdata)):\n",
    "        for j in range(len(privacyIdx)):\n",
    "            if splitdata[i] == '이    메    일':\n",
    "                emailSplitFindIndex = splitdata[i+1].find('>')\n",
    "                result.append(splitdata[i+1][:emailSplitFindIndex])  # 이메일 부분 불필요한 공백문자 제외\n",
    "                break  # 마지막으로 이메일을 문제없이 저장했을 시 for문 종료\n",
    "            if splitdata[i] == privacyIdx[j]:  # 개인정보리스트 값과 전체 데이터리스트 값이 일치하면\n",
    "                result.append(splitdata[i+1])\n",
    "    return result\n",
    "\n",
    "def UnivInfo(splitdata):\n",
    "    univIdx = [     # 학교정보 포함하는 속성들\n",
    "    '학교명',\n",
    "    '전공',\n",
    "    '성적',\n",
    "    '졸업구분',\n",
    "    '소재지'\n",
    "    ]\n",
    "    result = []\n",
    "    for i in range(len(splitdata)):\n",
    "        for j in range(len(univIdx)):\n",
    "            if splitdata[i] == '성적':\n",
    "                score = float(splitdata[i+5].replace('/4.5',''))  # 학점 계산위해 실제점수만 실수화\n",
    "                if score >= 4.0:\n",
    "                    result.append(10)\n",
    "                    break\n",
    "                elif score >= 3.7:\n",
    "                    result.append(9)\n",
    "                    break\n",
    "                elif score > 3.5:\n",
    "                    result.append(8)\n",
    "                    break\n",
    "                elif score > 3.0:\n",
    "                    result.append(7)\n",
    "                    break\n",
    "                else: \n",
    "                    result.append(6)\n",
    "                    break\n",
    "            if splitdata[i] == '소재지':\n",
    "                locSplitFindIndex = splitdata[i+5].find('>')\n",
    "                result.append(splitdata[i+1][:locSplitFindIndex])  # 소재지 부분 불필요한 공백문자 제외\n",
    "                break  # 마지막으로 소재지를 문제없이 저장했을 시 for문 종료\n",
    "\n",
    "            if splitdata[i] == univIdx[j]:  # 학교정보리스트 값과 전체 데이터리스트 값이 일치하면\n",
    "                result.append(splitdata[i+5])\n",
    "    return result\n",
    "\n",
    "def ToeicInfo(splitdata):\n",
    "    result = []\n",
    "    for i in range(len(splitdata)):\n",
    "        if splitdata[i] == 'TOEIC':\n",
    "            try:\n",
    "                score = int(splitdata[i+5].replace('점',''))\n",
    "                result.append(score)\n",
    "                if score >= 900:\n",
    "                    result.append(10)\n",
    "                    break\n",
    "                elif score >= 800:\n",
    "                    result.append(9.5)\n",
    "                    break\n",
    "                elif score > 700:\n",
    "                    result.append(9)\n",
    "                    break\n",
    "                elif score > 600:\n",
    "                    result.append(8.5)\n",
    "                    break\n",
    "                else: \n",
    "                    result.append(4)\n",
    "                    break\n",
    "            except:\n",
    "                result.append(0)\n",
    "    return result\n",
    "\n",
    "def CertificateInfo(splitdata):\n",
    "    result = []\n",
    "    idx_start = splitdata.index('점수')\n",
    "    idx_end = splitdata.index('기간')\n",
    "    result_origin = splitdata[idx_start+1:idx_end]\n",
    "    \n",
    "    del result_origin[3]  # toeic 점수 제거\n",
    "    result_origin[-1] = result_origin[-1][:result_origin[-1].find('>')] # 마지막 값에서 불필요 공백 제거\n",
    "    result.append(result_origin)\n",
    "    \n",
    "    score = 0\n",
    "    certificataName = []\n",
    "    for i in range(0,len(result_origin),3):\n",
    "        if result_origin[i].find('기사') != -1:   # 못찾는 경우(-1)이 아닌 경우\n",
    "            # print(result_origin[i])\n",
    "            certificataName.append(result_origin[i])\n",
    "            score += 4\n",
    "        else:\n",
    "            # print(result_origin[i])\n",
    "            certificataName.append(result_origin[i])\n",
    "            score += 1\n",
    "    if score >= 5:\n",
    "        score = 5\n",
    "    result.append(certificataName)\n",
    "    result.append(score)\n",
    "    \n",
    "    return result\n",
    "    \n",
    "def EducataionInfo(splitdata):\n",
    "    result = []\n",
    "    EduIdx = [\n",
    "        '군별',\n",
    "        '계급',\n",
    "        '복무기간'\n",
    "    ]\n",
    "    Act_lst = []\n",
    "    for i in EduIdx:\n",
    "        if splitdata[splitdata.index(i)-1]:  # null값이 아니면 True\n",
    "            Act_lst.append(splitdata[splitdata.index(i)-1])\n",
    "            \n",
    "    score = len(Act_lst)*2   # 활동 하나당 2점\n",
    "    if score > 5:\n",
    "        score = 5\n",
    "    \n",
    "    result.append(Act_lst)\n",
    "    result.append(score)\n",
    "    \n",
    "    return result\n",
    "    \n",
    "def MilitaryInfo(splitdata):\n",
    "    MilIdx = [     \n",
    "    '군필여부',\n",
    "    '군별',\n",
    "    '계급',\n",
    "    '복무기간'\n",
    "    ]\n",
    "    result = []\n",
    "    for i in range(len(splitdata)):\n",
    "        for j in range(len(MilIdx)):\n",
    "            if splitdata[i] == '복무기간':\n",
    "                idx = splitdata[i+1].find('>')\n",
    "                result.append(splitdata[i+1][:idx])  \n",
    "                break\n",
    "            if splitdata[i] == MilIdx[j]:\n",
    "                result.append(splitdata[i+1])\n",
    "    return result\n",
    "\n",
    "def LanguageInfo(splitdata):\n",
    "    result = []\n",
    "    LanIdx = [\n",
    "        'R',\n",
    "        'Python',\n",
    "        'Javascript',\n",
    "        'SQL',\n",
    "        'HTML/CSS'\n",
    "    ]\n",
    "    for i in range(len(splitdata)):\n",
    "        for j in range(len(LanIdx)):\n",
    "            if splitdata[i] == 'HTML/CSS':\n",
    "                idx = splitdata[i+5].find('>')\n",
    "                result.append(splitdata[i+5][:idx]) \n",
    "                break\n",
    "            if splitdata[i] == LanIdx[j]:\n",
    "                result.append(splitdata[i+5])\n",
    "    score = 0\n",
    "    score += result.count(\"상\") * 2\n",
    "    score += result.count(\"중\") * 1.5\n",
    "    score += result.count(\"하\") * 1\n",
    "    result.append(score)\n",
    "    \n",
    "    return result\n",
    "\n",
    "functions = [\n",
    "    PrivacyInfo, \n",
    "    UnivInfo, \n",
    "    ToeicInfo,\n",
    "    CertificateInfo,\n",
    "    EducataionInfo,\n",
    "    MilitaryInfo,\n",
    "    LanguageInfo\n",
    "]\n",
    "for function in functions:\n",
    "    print(function(splitdata))"
   ]
  },
  {
   "cell_type": "markdown",
   "id": "617ef033",
   "metadata": {},
   "source": [
    "## 개꿀팁: 드래그 후 ctrl + '{' → tab 제거\n"
   ]
  },
  {
   "cell_type": "markdown",
   "id": "dec128f2",
   "metadata": {},
   "source": [
    "# 파일 여러개 한번에 읽기"
   ]
  },
  {
   "cell_type": "code",
   "execution_count": 97,
   "id": "e5923a62",
   "metadata": {},
   "outputs": [
    {
     "name": "stdout",
     "output_type": "stream",
     "text": [
      "C:\\Users\\User\\Desktop\\코공딩부\\xlsxwriter_study\\xlsxwriter_data\\___\\____1.hwp\n",
      "C:\\Users\\User\\Desktop\\코공딩부\\xlsxwriter_study\\xlsxwriter_data\\___\\____10.hwp\n",
      "C:\\Users\\User\\Desktop\\코공딩부\\xlsxwriter_study\\xlsxwriter_data\\___\\____100.hwp\n",
      "C:\\Users\\User\\Desktop\\코공딩부\\xlsxwriter_study\\xlsxwriter_data\\___\\____11.hwp\n",
      "C:\\Users\\User\\Desktop\\코공딩부\\xlsxwriter_study\\xlsxwriter_data\\___\\____12.hwp\n",
      "C:\\Users\\User\\Desktop\\코공딩부\\xlsxwriter_study\\xlsxwriter_data\\___\\____13.hwp\n",
      "C:\\Users\\User\\Desktop\\코공딩부\\xlsxwriter_study\\xlsxwriter_data\\___\\____14.hwp\n",
      "C:\\Users\\User\\Desktop\\코공딩부\\xlsxwriter_study\\xlsxwriter_data\\___\\____15.hwp\n",
      "C:\\Users\\User\\Desktop\\코공딩부\\xlsxwriter_study\\xlsxwriter_data\\___\\____16.hwp\n",
      "C:\\Users\\User\\Desktop\\코공딩부\\xlsxwriter_study\\xlsxwriter_data\\___\\____17.hwp\n",
      "C:\\Users\\User\\Desktop\\코공딩부\\xlsxwriter_study\\xlsxwriter_data\\___\\____18.hwp\n",
      "C:\\Users\\User\\Desktop\\코공딩부\\xlsxwriter_study\\xlsxwriter_data\\___\\____19.hwp\n",
      "C:\\Users\\User\\Desktop\\코공딩부\\xlsxwriter_study\\xlsxwriter_data\\___\\____2.hwp\n",
      "C:\\Users\\User\\Desktop\\코공딩부\\xlsxwriter_study\\xlsxwriter_data\\___\\____20.hwp\n",
      "C:\\Users\\User\\Desktop\\코공딩부\\xlsxwriter_study\\xlsxwriter_data\\___\\____21.hwp\n",
      "C:\\Users\\User\\Desktop\\코공딩부\\xlsxwriter_study\\xlsxwriter_data\\___\\____22.hwp\n",
      "C:\\Users\\User\\Desktop\\코공딩부\\xlsxwriter_study\\xlsxwriter_data\\___\\____23.hwp\n",
      "C:\\Users\\User\\Desktop\\코공딩부\\xlsxwriter_study\\xlsxwriter_data\\___\\____24.hwp\n",
      "C:\\Users\\User\\Desktop\\코공딩부\\xlsxwriter_study\\xlsxwriter_data\\___\\____25.hwp\n",
      "C:\\Users\\User\\Desktop\\코공딩부\\xlsxwriter_study\\xlsxwriter_data\\___\\____26.hwp\n",
      "C:\\Users\\User\\Desktop\\코공딩부\\xlsxwriter_study\\xlsxwriter_data\\___\\____27.hwp\n",
      "C:\\Users\\User\\Desktop\\코공딩부\\xlsxwriter_study\\xlsxwriter_data\\___\\____28.hwp\n",
      "C:\\Users\\User\\Desktop\\코공딩부\\xlsxwriter_study\\xlsxwriter_data\\___\\____29.hwp\n",
      "C:\\Users\\User\\Desktop\\코공딩부\\xlsxwriter_study\\xlsxwriter_data\\___\\____3.hwp\n",
      "C:\\Users\\User\\Desktop\\코공딩부\\xlsxwriter_study\\xlsxwriter_data\\___\\____30.hwp\n",
      "C:\\Users\\User\\Desktop\\코공딩부\\xlsxwriter_study\\xlsxwriter_data\\___\\____31.hwp\n",
      "C:\\Users\\User\\Desktop\\코공딩부\\xlsxwriter_study\\xlsxwriter_data\\___\\____32.hwp\n",
      "C:\\Users\\User\\Desktop\\코공딩부\\xlsxwriter_study\\xlsxwriter_data\\___\\____33.hwp\n",
      "C:\\Users\\User\\Desktop\\코공딩부\\xlsxwriter_study\\xlsxwriter_data\\___\\____34.hwp\n",
      "C:\\Users\\User\\Desktop\\코공딩부\\xlsxwriter_study\\xlsxwriter_data\\___\\____35.hwp\n",
      "C:\\Users\\User\\Desktop\\코공딩부\\xlsxwriter_study\\xlsxwriter_data\\___\\____36.hwp\n",
      "C:\\Users\\User\\Desktop\\코공딩부\\xlsxwriter_study\\xlsxwriter_data\\___\\____37.hwp\n",
      "C:\\Users\\User\\Desktop\\코공딩부\\xlsxwriter_study\\xlsxwriter_data\\___\\____38.hwp\n",
      "C:\\Users\\User\\Desktop\\코공딩부\\xlsxwriter_study\\xlsxwriter_data\\___\\____39.hwp\n",
      "C:\\Users\\User\\Desktop\\코공딩부\\xlsxwriter_study\\xlsxwriter_data\\___\\____4.hwp\n",
      "C:\\Users\\User\\Desktop\\코공딩부\\xlsxwriter_study\\xlsxwriter_data\\___\\____40.hwp\n",
      "C:\\Users\\User\\Desktop\\코공딩부\\xlsxwriter_study\\xlsxwriter_data\\___\\____41.hwp\n",
      "C:\\Users\\User\\Desktop\\코공딩부\\xlsxwriter_study\\xlsxwriter_data\\___\\____42.hwp\n",
      "C:\\Users\\User\\Desktop\\코공딩부\\xlsxwriter_study\\xlsxwriter_data\\___\\____43.hwp\n",
      "C:\\Users\\User\\Desktop\\코공딩부\\xlsxwriter_study\\xlsxwriter_data\\___\\____44.hwp\n",
      "C:\\Users\\User\\Desktop\\코공딩부\\xlsxwriter_study\\xlsxwriter_data\\___\\____45.hwp\n",
      "C:\\Users\\User\\Desktop\\코공딩부\\xlsxwriter_study\\xlsxwriter_data\\___\\____46.hwp\n",
      "C:\\Users\\User\\Desktop\\코공딩부\\xlsxwriter_study\\xlsxwriter_data\\___\\____47.hwp\n",
      "C:\\Users\\User\\Desktop\\코공딩부\\xlsxwriter_study\\xlsxwriter_data\\___\\____48.hwp\n",
      "C:\\Users\\User\\Desktop\\코공딩부\\xlsxwriter_study\\xlsxwriter_data\\___\\____49.hwp\n",
      "C:\\Users\\User\\Desktop\\코공딩부\\xlsxwriter_study\\xlsxwriter_data\\___\\____5.hwp\n",
      "C:\\Users\\User\\Desktop\\코공딩부\\xlsxwriter_study\\xlsxwriter_data\\___\\____50.hwp\n",
      "C:\\Users\\User\\Desktop\\코공딩부\\xlsxwriter_study\\xlsxwriter_data\\___\\____51.hwp\n",
      "C:\\Users\\User\\Desktop\\코공딩부\\xlsxwriter_study\\xlsxwriter_data\\___\\____52.hwp\n",
      "C:\\Users\\User\\Desktop\\코공딩부\\xlsxwriter_study\\xlsxwriter_data\\___\\____53.hwp\n",
      "C:\\Users\\User\\Desktop\\코공딩부\\xlsxwriter_study\\xlsxwriter_data\\___\\____54.hwp\n",
      "C:\\Users\\User\\Desktop\\코공딩부\\xlsxwriter_study\\xlsxwriter_data\\___\\____55.hwp\n",
      "C:\\Users\\User\\Desktop\\코공딩부\\xlsxwriter_study\\xlsxwriter_data\\___\\____56.hwp\n",
      "C:\\Users\\User\\Desktop\\코공딩부\\xlsxwriter_study\\xlsxwriter_data\\___\\____57.hwp\n",
      "C:\\Users\\User\\Desktop\\코공딩부\\xlsxwriter_study\\xlsxwriter_data\\___\\____58.hwp\n",
      "C:\\Users\\User\\Desktop\\코공딩부\\xlsxwriter_study\\xlsxwriter_data\\___\\____59.hwp\n",
      "C:\\Users\\User\\Desktop\\코공딩부\\xlsxwriter_study\\xlsxwriter_data\\___\\____6.hwp\n",
      "C:\\Users\\User\\Desktop\\코공딩부\\xlsxwriter_study\\xlsxwriter_data\\___\\____60.hwp\n",
      "C:\\Users\\User\\Desktop\\코공딩부\\xlsxwriter_study\\xlsxwriter_data\\___\\____61.hwp\n",
      "C:\\Users\\User\\Desktop\\코공딩부\\xlsxwriter_study\\xlsxwriter_data\\___\\____62.hwp\n",
      "C:\\Users\\User\\Desktop\\코공딩부\\xlsxwriter_study\\xlsxwriter_data\\___\\____63.hwp\n",
      "C:\\Users\\User\\Desktop\\코공딩부\\xlsxwriter_study\\xlsxwriter_data\\___\\____64.hwp\n",
      "C:\\Users\\User\\Desktop\\코공딩부\\xlsxwriter_study\\xlsxwriter_data\\___\\____65.hwp\n",
      "C:\\Users\\User\\Desktop\\코공딩부\\xlsxwriter_study\\xlsxwriter_data\\___\\____66.hwp\n",
      "C:\\Users\\User\\Desktop\\코공딩부\\xlsxwriter_study\\xlsxwriter_data\\___\\____67.hwp\n",
      "C:\\Users\\User\\Desktop\\코공딩부\\xlsxwriter_study\\xlsxwriter_data\\___\\____68.hwp\n",
      "C:\\Users\\User\\Desktop\\코공딩부\\xlsxwriter_study\\xlsxwriter_data\\___\\____69.hwp\n",
      "C:\\Users\\User\\Desktop\\코공딩부\\xlsxwriter_study\\xlsxwriter_data\\___\\____7.hwp\n",
      "C:\\Users\\User\\Desktop\\코공딩부\\xlsxwriter_study\\xlsxwriter_data\\___\\____70.hwp\n",
      "C:\\Users\\User\\Desktop\\코공딩부\\xlsxwriter_study\\xlsxwriter_data\\___\\____71.hwp\n",
      "C:\\Users\\User\\Desktop\\코공딩부\\xlsxwriter_study\\xlsxwriter_data\\___\\____72.hwp\n",
      "C:\\Users\\User\\Desktop\\코공딩부\\xlsxwriter_study\\xlsxwriter_data\\___\\____73.hwp\n",
      "C:\\Users\\User\\Desktop\\코공딩부\\xlsxwriter_study\\xlsxwriter_data\\___\\____74.hwp\n",
      "C:\\Users\\User\\Desktop\\코공딩부\\xlsxwriter_study\\xlsxwriter_data\\___\\____75.hwp\n",
      "C:\\Users\\User\\Desktop\\코공딩부\\xlsxwriter_study\\xlsxwriter_data\\___\\____76.hwp\n",
      "C:\\Users\\User\\Desktop\\코공딩부\\xlsxwriter_study\\xlsxwriter_data\\___\\____77.hwp\n",
      "C:\\Users\\User\\Desktop\\코공딩부\\xlsxwriter_study\\xlsxwriter_data\\___\\____78.hwp\n",
      "C:\\Users\\User\\Desktop\\코공딩부\\xlsxwriter_study\\xlsxwriter_data\\___\\____79.hwp\n",
      "C:\\Users\\User\\Desktop\\코공딩부\\xlsxwriter_study\\xlsxwriter_data\\___\\____8.hwp\n",
      "C:\\Users\\User\\Desktop\\코공딩부\\xlsxwriter_study\\xlsxwriter_data\\___\\____80.hwp\n",
      "C:\\Users\\User\\Desktop\\코공딩부\\xlsxwriter_study\\xlsxwriter_data\\___\\____81.hwp\n",
      "C:\\Users\\User\\Desktop\\코공딩부\\xlsxwriter_study\\xlsxwriter_data\\___\\____82.hwp\n",
      "C:\\Users\\User\\Desktop\\코공딩부\\xlsxwriter_study\\xlsxwriter_data\\___\\____83.hwp\n",
      "C:\\Users\\User\\Desktop\\코공딩부\\xlsxwriter_study\\xlsxwriter_data\\___\\____84.hwp\n",
      "C:\\Users\\User\\Desktop\\코공딩부\\xlsxwriter_study\\xlsxwriter_data\\___\\____85.hwp\n",
      "C:\\Users\\User\\Desktop\\코공딩부\\xlsxwriter_study\\xlsxwriter_data\\___\\____86.hwp\n",
      "C:\\Users\\User\\Desktop\\코공딩부\\xlsxwriter_study\\xlsxwriter_data\\___\\____87.hwp\n",
      "C:\\Users\\User\\Desktop\\코공딩부\\xlsxwriter_study\\xlsxwriter_data\\___\\____88.hwp\n",
      "C:\\Users\\User\\Desktop\\코공딩부\\xlsxwriter_study\\xlsxwriter_data\\___\\____89.hwp\n",
      "C:\\Users\\User\\Desktop\\코공딩부\\xlsxwriter_study\\xlsxwriter_data\\___\\____9.hwp\n",
      "C:\\Users\\User\\Desktop\\코공딩부\\xlsxwriter_study\\xlsxwriter_data\\___\\____90.hwp\n",
      "C:\\Users\\User\\Desktop\\코공딩부\\xlsxwriter_study\\xlsxwriter_data\\___\\____91.hwp\n",
      "C:\\Users\\User\\Desktop\\코공딩부\\xlsxwriter_study\\xlsxwriter_data\\___\\____92.hwp\n",
      "C:\\Users\\User\\Desktop\\코공딩부\\xlsxwriter_study\\xlsxwriter_data\\___\\____93.hwp\n",
      "C:\\Users\\User\\Desktop\\코공딩부\\xlsxwriter_study\\xlsxwriter_data\\___\\____94.hwp\n",
      "C:\\Users\\User\\Desktop\\코공딩부\\xlsxwriter_study\\xlsxwriter_data\\___\\____95.hwp\n",
      "C:\\Users\\User\\Desktop\\코공딩부\\xlsxwriter_study\\xlsxwriter_data\\___\\____96.hwp\n",
      "C:\\Users\\User\\Desktop\\코공딩부\\xlsxwriter_study\\xlsxwriter_data\\___\\____97.hwp\n",
      "C:\\Users\\User\\Desktop\\코공딩부\\xlsxwriter_study\\xlsxwriter_data\\___\\____98.hwp\n",
      "C:\\Users\\User\\Desktop\\코공딩부\\xlsxwriter_study\\xlsxwriter_data\\___\\____99.hwp\n"
     ]
    }
   ],
   "source": [
    "import glob\n",
    "path = (r'C:\\Users\\User\\Desktop\\코공딩부\\xlsxwriter_study\\xlsxwriter_data\\___\\*.hwp')\n",
    "for filename in glob.glob(path):\n",
    "    print(filename)"
   ]
  },
  {
   "cell_type": "code",
   "execution_count": 98,
   "id": "418c4817",
   "metadata": {},
   "outputs": [
    {
     "data": {
      "text/plain": [
       "['.atom',\n",
       " '.bash_history',\n",
       " '.gitconfig',\n",
       " '.idlerc',\n",
       " '.ipynb_checkpoints',\n",
       " '.ipython',\n",
       " '.jupyter',\n",
       " '.lesshst',\n",
       " '.matplotlib',\n",
       " '.ms-ad',\n",
       " '.python_history',\n",
       " '.viminfo',\n",
       " '.vscode',\n",
       " '3D Objects',\n",
       " 'abc.csv',\n",
       " 'anaconda3',\n",
       " 'AppData',\n",
       " 'Application Data',\n",
       " 'chromedriver.exe',\n",
       " 'Contacts',\n",
       " 'Cookies',\n",
       " 'data.csv',\n",
       " 'DataScience',\n",
       " 'Desktop',\n",
       " 'Documents',\n",
       " 'Downloads',\n",
       " 'Favorites',\n",
       " 'Foxit Reader SDK ActiveX.ini',\n",
       " 'Intel',\n",
       " 'Intel.sav',\n",
       " 'IntelGraphicsProfiles',\n",
       " 'Links',\n",
       " 'Local Settings',\n",
       " 'MicrosoftEdgeBackups',\n",
       " 'Music',\n",
       " 'My Documents',\n",
       " 'NetHood',\n",
       " 'NTUSER.DAT',\n",
       " 'ntuser.dat.LOG1',\n",
       " 'ntuser.dat.LOG2',\n",
       " 'NTUSER.DAT{53b39e88-18c4-11ea-a811-000d3aa4692b}.TM.blf',\n",
       " 'NTUSER.DAT{53b39e88-18c4-11ea-a811-000d3aa4692b}.TMContainer00000000000000000001.regtrans-ms',\n",
       " 'NTUSER.DAT{53b39e88-18c4-11ea-a811-000d3aa4692b}.TMContainer00000000000000000002.regtrans-ms',\n",
       " 'ntuser.ini',\n",
       " 'OneDrive',\n",
       " 'Pictures',\n",
       " 'PrintHood',\n",
       " 'PycharmProjects',\n",
       " 'Recent',\n",
       " 'Roaming',\n",
       " 'Saved Games',\n",
       " 'Searches',\n",
       " 'Selenium_공부.ipynb',\n",
       " 'SendTo',\n",
       " 'StarbucksCrawling.ipynb',\n",
       " 'Templates',\n",
       " 'Videos',\n",
       " 'xlsxwriter_06.ipynb',\n",
       " '서울지역의료기기품목허가.xlsx',\n",
       " '시작 메뉴',\n",
       " '의료기기품목허가.xlsx',\n",
       " '의료기기품목허가서비스.ipynb',\n",
       " '헬스케어_AED데이터 연습.ipynb']"
      ]
     },
     "execution_count": 98,
     "metadata": {},
     "output_type": "execute_result"
    }
   ],
   "source": [
    "import os\n",
    "os.listdir()"
   ]
  },
  {
   "cell_type": "code",
   "execution_count": 99,
   "id": "d77044d5",
   "metadata": {},
   "outputs": [
    {
     "name": "stdout",
     "output_type": "stream",
     "text": [
      " C 드라이브의 볼륨: Windows10\n",
      " 볼륨 일련 번호: A2C9-CAB8\n",
      "\n",
      " C:\\Users\\User 디렉터리\n",
      "\n",
      "2022-09-21  오전 01:40    <DIR>          .\n",
      "2022-09-21  오전 01:40    <DIR>          ..\n",
      "2022-07-18  오후 09:09    <DIR>          .atom\n",
      "2022-09-20  오후 08:07             3,889 .bash_history\n",
      "2022-09-20  오전 01:35                58 .gitconfig\n",
      "2020-11-04  오전 02:20    <DIR>          .idlerc\n",
      "2022-09-20  오후 11:39    <DIR>          .ipynb_checkpoints\n",
      "2020-11-04  오전 02:26    <DIR>          .ipython\n",
      "2020-11-07  오후 02:09    <DIR>          .jupyter\n",
      "2022-09-20  오후 08:07                20 .lesshst\n",
      "2022-08-11  오전 01:37    <DIR>          .matplotlib\n",
      "2022-07-01  오후 10:28    <DIR>          .ms-ad\n",
      "2022-07-03  오후 04:10                29 .python_history\n",
      "2022-08-09  오전 12:33            10,623 .viminfo\n",
      "2021-10-15  오후 04:46    <DIR>          .vscode\n",
      "2022-05-13  오전 02:48    <DIR>          3D Objects\n",
      "2022-09-17  오후 11:14                 6 abc.csv\n",
      "2022-07-03  오후 03:58    <DIR>          anaconda3\n",
      "2022-05-17  오후 04:13        11,735,552 chromedriver.exe\n",
      "2022-05-13  오전 02:48    <DIR>          Contacts\n",
      "2022-09-17  오후 11:46            36,535 data.csv\n",
      "2022-08-03  오전 01:10    <DIR>          DataScience\n",
      "2022-09-20  오후 08:28    <DIR>          Desktop\n",
      "2022-07-03  오후 03:58    <DIR>          Documents\n",
      "2022-09-19  오후 03:41    <DIR>          Downloads\n",
      "2022-08-23  오후 10:38    <DIR>          Favorites\n",
      "2020-10-19  오후 09:30                29 Foxit Reader SDK ActiveX.ini\n",
      "2019-10-17  오후 04:38    <DIR>          Intel\n",
      "2019-10-17  오후 04:48    <DIR>          Intel.sav\n",
      "2022-05-13  오전 02:48    <DIR>          Links\n",
      "2022-05-13  오전 02:48    <DIR>          Music\n",
      "2022-09-20  오후 08:41    <DIR>          OneDrive\n",
      "2022-08-27  오후 02:47    <DIR>          Pictures\n",
      "2022-06-17  오전 01:24    <DIR>          PycharmProjects\n",
      "2019-10-17  오후 04:49    <DIR>          Roaming\n",
      "2022-05-13  오전 02:48    <DIR>          Saved Games\n",
      "2022-05-13  오전 02:48    <DIR>          Searches\n",
      "2022-09-18  오전 02:10            85,088 Selenium_공부.ipynb\n",
      "2022-07-05  오후 09:15           511,875 StarbucksCrawling.ipynb\n",
      "2022-05-13  오전 02:48    <DIR>          Videos\n",
      "2022-09-21  오전 01:40            22,437 xlsxwriter_06.ipynb\n",
      "2020-11-08  오전 02:15             6,101 서울지역의료기기품목허가.xlsx\n",
      "2020-11-08  오전 02:15             7,951 의료기기품목허가.xlsx\n",
      "2020-11-08  오전 02:17            66,902 의료기기품목허가서비스.ipynb\n",
      "2020-11-07  오후 05:55            21,562 헬스케어_AED데이터 연습.ipynb\n",
      "              16개 파일          12,508,657 바이트\n",
      "              29개 디렉터리  112,009,531,392 바이트 남음\n"
     ]
    }
   ],
   "source": [
    "!dir"
   ]
  },
  {
   "cell_type": "code",
   "execution_count": null,
   "id": "a0d42b05",
   "metadata": {},
   "outputs": [],
   "source": []
  }
 ],
 "metadata": {
  "kernelspec": {
   "display_name": "Python 3 (ipykernel)",
   "language": "python",
   "name": "python3"
  },
  "language_info": {
   "codemirror_mode": {
    "name": "ipython",
    "version": 3
   },
   "file_extension": ".py",
   "mimetype": "text/x-python",
   "name": "python",
   "nbconvert_exporter": "python",
   "pygments_lexer": "ipython3",
   "version": "3.9.12"
  }
 },
 "nbformat": 4,
 "nbformat_minor": 5
}
