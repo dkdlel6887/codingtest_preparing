{
 "cells": [
  {
   "cell_type": "markdown",
   "id": "da879d65",
   "metadata": {},
   "source": [
    "## E-mail 보내기\n",
    "- smtplib 모듈 사용\n",
    "  - SMTP서버 설치 후 메일 보낼 수 있지만 google은 SMPT 서버 사용 가능하게 오픈됨\n",
    "  - Simple Mail Transfer Protocol: 간이 전자 우편 전송 프로토콜"
   ]
  },
  {
   "cell_type": "code",
   "execution_count": 2,
   "id": "b246a1a4",
   "metadata": {},
   "outputs": [],
   "source": [
    "import smtplib, os\n",
    "from email import encoders # 텍스트 외의 파일이나 사진을 문자열로 변환하여 전송\n",
    "from email.mime.text import MIMEText  # 메일을 보낼 때 메일의 제목, 본문 설정\n",
    "from email.mime.multipart import MIMEMultipart  # 메세지 내용에 대한 모듈  \n",
    "from email.mime.base import MIMEBase"
   ]
  },
  {
   "cell_type": "code",
   "execution_count": 3,
   "id": "f593c197",
   "metadata": {},
   "outputs": [],
   "source": [
    "# 발송 이메일\n",
    "fromaddr = 'google_ID@gmail.com'\n",
    "pw = '비밀번호'\n",
    "\n",
    "# 수신 이메일 >>> 엑셀파일에서 이메일 부분을 가져와 사용하면 된다\n",
    "toaddr = ['naver_ID1@naver.com','naver_ID2@naver.com']\n",
    "\n",
    "# 이메일 제목\n",
    "msg = MIMEMultipart()\n",
    "msg['Subject'] = 'Email Transfer Using Python'\n",
    "\n",
    "# 이메일 내용\n",
    "text = MIMEText('이 메일은 xlsxwriter 스터디의 Python Email Transfer 학습용 메일입니다.')\n",
    "\n",
    "# 이메일 제목과 내용 합치기\n",
    "msg.attach(text)"
   ]
  },
  {
   "cell_type": "code",
   "execution_count": null,
   "id": "fafb187e",
   "metadata": {},
   "outputs": [],
   "source": [
    "s = smtplib.SMTP('smtp.gmail.com', 587)  # 587: google smtp 서버의 포트번호\n",
    "s.starttls()  # tls방식으로 smpt 서버 접속\n",
    "s.login(fromaddr, pw)\n",
    "\n",
    "# 파일 첨부\n",
    "files = r'C:\\Users\\User\\Desktop\\국내 종합상사의 수출 위험요인.hwpx'  \n",
    "            #  절대경로(입력했을 때 파일이 바로 열림)여야 함\n",
    "files = files.encode('utf-8') # 경로명에 한글이 있을 시 오류발생 방지하기 위해 입력\n",
    "\n",
    "part = MIMEBase(\"application\", \"octet-stream\")\n",
    "part.set_payload(open(files, 'rb').read())\n",
    "encoders.encode_base64(part)  #base64 encoding: 영상, 이미지 파일 문자열 형태로 변환\n",
    "part.add_header('Content-Disposition','attachment', filename='첨부문서1.hwpx')  # 첨부할 파일 이름 설정\n",
    "msg.attach(part)\n",
    "\n",
    "for i in toaddr:\n",
    "    msg['To'] = i\n",
    "    s.sendmail(fromaddr, i, msg.as_string())\n",
    "s.quit()"
   ]
  },
  {
   "cell_type": "markdown",
   "id": "4a04ef18",
   "metadata": {},
   "source": [
    "## SMS 발송하기\n",
    " - CSV로 뽑아 문자 발송 - 30원\n",
    " - twilio 회원가입, 설치 후 발송(국외 발송) - 0.03 달러"
   ]
  },
  {
   "cell_type": "code",
   "execution_count": 4,
   "id": "22d49077",
   "metadata": {},
   "outputs": [
    {
     "name": "stdout",
     "output_type": "stream",
     "text": [
      "Collecting twilio\n",
      "  Downloading twilio-7.14.1-py2.py3-none-any.whl (1.4 MB)\n",
      "Requirement already satisfied: requests>=2.0.0 in c:\\users\\user\\anaconda3\\lib\\site-packages (from twilio) (2.27.1)\n",
      "Requirement already satisfied: pytz in c:\\users\\user\\anaconda3\\lib\\site-packages (from twilio) (2021.3)\n",
      "Requirement already satisfied: PyJWT<3.0.0,>=2.0.0 in c:\\users\\user\\anaconda3\\lib\\site-packages (from twilio) (2.1.0)\n",
      "Requirement already satisfied: charset-normalizer~=2.0.0 in c:\\users\\user\\anaconda3\\lib\\site-packages (from requests>=2.0.0->twilio) (2.0.4)\n",
      "Requirement already satisfied: idna<4,>=2.5 in c:\\users\\user\\anaconda3\\lib\\site-packages (from requests>=2.0.0->twilio) (3.3)\n",
      "Requirement already satisfied: urllib3<1.27,>=1.21.1 in c:\\users\\user\\anaconda3\\lib\\site-packages (from requests>=2.0.0->twilio) (1.26.9)\n",
      "Requirement already satisfied: certifi>=2017.4.17 in c:\\users\\user\\anaconda3\\lib\\site-packages (from requests>=2.0.0->twilio) (2021.10.8)\n",
      "Installing collected packages: twilio\n",
      "Successfully installed twilio-7.14.1\n"
     ]
    }
   ],
   "source": [
    "!pip install twilio"
   ]
  },
  {
   "cell_type": "code",
   "execution_count": null,
   "id": "8725b3b3",
   "metadata": {},
   "outputs": [],
   "source": [
    "from twilio.rest import Client\n",
    "\n",
    "account_sid = '사이트 회원가입 후 사용할 수 있는 시드'\n",
    "auth_token = '사이트 회원가입 후 사용할 수 있는 토큰'\n",
    "client = Client(account_sid, auth_token)\n",
    "# 문자를 보낼 번호\n",
    "to = ['+821012345678','받을 번호2']  # 파일 가져와서 넣어주면 됨\n",
    "\n",
    "for i in to:\n",
    "    message = client.messages.create(\n",
    "        from_ = '사이트에서 발급받은 번호',\n",
    "        body = 'PYTHON SMS TRANSFER TEST MESSAGE',\n",
    "        to = i\n",
    "    )\n",
    "print(message.sid)  # 오류 발생 시 사이트 접속\n",
    "# 메뉴 > programmable messaging dashboard > settings > geo permissions > Korea Republic of 체크\n"
   ]
  }
 ],
 "metadata": {
  "kernelspec": {
   "display_name": "Python 3 (ipykernel)",
   "language": "python",
   "name": "python3"
  },
  "language_info": {
   "codemirror_mode": {
    "name": "ipython",
    "version": 3
   },
   "file_extension": ".py",
   "mimetype": "text/x-python",
   "name": "python",
   "nbconvert_exporter": "python",
   "pygments_lexer": "ipython3",
   "version": "3.9.12"
  }
 },
 "nbformat": 4,
 "nbformat_minor": 5
}
