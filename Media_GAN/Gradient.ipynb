{
 "cells": [
  {
   "cell_type": "code",
   "execution_count": 13,
   "metadata": {
    "id": "SdbrGPNFNpsA"
   },
   "outputs": [],
   "source": [
    "import numpy as np"
   ]
  },
  {
   "cell_type": "code",
   "execution_count": 14,
   "metadata": {
    "id": "uLrUJlEJFT66"
   },
   "outputs": [],
   "source": [
    "x = np.array([0.5, 0.8])\n",
    "t = np.array([0, 1, 0])"
   ]
  },
  {
   "cell_type": "code",
   "execution_count": 15,
   "metadata": {
    "colab": {
     "base_uri": "https://localhost:8080/"
    },
    "id": "kURr2wYzEmbs",
    "outputId": "092a6425-b245-45cf-c0bd-509d7b429386"
   },
   "outputs": [
    {
     "data": {
      "text/plain": [
       "array([[ 1.62434536, -0.61175641, -0.52817175],\n",
       "       [-1.07296862,  0.86540763, -2.3015387 ]])"
      ]
     },
     "execution_count": 15,
     "metadata": {},
     "output_type": "execute_result"
    }
   ],
   "source": [
    "np.random.seed(1)\n",
    "W = np.random.randn(2, 3)\n",
    "#b = np.random.randn(1,)\n",
    "W"
   ]
  },
  {
   "cell_type": "code",
   "execution_count": 16,
   "metadata": {
    "id": "NkMxXEzTEsPz"
   },
   "outputs": [],
   "source": [
    "def net(x):\n",
    "  #print('net W', W)\n",
    "  return np.dot(x, W)\n",
    "  #return np.dot(x, W)+b"
   ]
  },
  {
   "cell_type": "code",
   "execution_count": 17,
   "metadata": {
    "id": "I8YCcwfsyTP1"
   },
   "outputs": [],
   "source": [
    "a = net(x)"
   ]
  },
  {
   "cell_type": "code",
   "execution_count": 18,
   "metadata": {
    "id": "yvu0CUMzMd9U"
   },
   "outputs": [],
   "source": [
    "def softmax(x):\n",
    "  c = np.max(x)\n",
    "  y = np.exp(x-c)/np.sum(np.exp(x-c))\n",
    "  #print('softmax=', y)\n",
    "  return y"
   ]
  },
  {
   "cell_type": "code",
   "execution_count": 19,
   "metadata": {
    "id": "o3S_nSsUxwNJ"
   },
   "outputs": [],
   "source": [
    "y = softmax(a)"
   ]
  },
  {
   "cell_type": "code",
   "execution_count": 20,
   "metadata": {
    "id": "kv9gOCDOJrac"
   },
   "outputs": [],
   "source": [
    "def cross_entropy_error(y, t):\n",
    "  if y.ndim == 1:\n",
    "    batch_size = 1\n",
    "    #print('batch_size=', batch_size)\n",
    "  else:\n",
    "    batch_size = y.shape[0]\n",
    "    #print('batch_size=', batch_size)\n",
    "  return -np.sum(t*np.log(y+1e-7))/batch_size"
   ]
  },
  {
   "cell_type": "code",
   "execution_count": 21,
   "metadata": {
    "colab": {
     "base_uri": "https://localhost:8080/"
    },
    "id": "oKeC2YYOx0uy",
    "outputId": "6d412603-24fb-4903-d9da-647ff15dae97"
   },
   "outputs": [
    {
     "data": {
      "text/plain": [
       "0.5490175021267665"
      ]
     },
     "execution_count": 21,
     "metadata": {},
     "output_type": "execute_result"
    }
   ],
   "source": [
    "cross_entropy_error(y, t)"
   ]
  },
  {
   "cell_type": "code",
   "execution_count": 22,
   "metadata": {
    "id": "nXgnNjuzE6Mo"
   },
   "outputs": [],
   "source": [
    "def loss(x, t):\n",
    "  z = net(x)\n",
    "  y = softmax(z)\n",
    "  loss = cross_entropy_error(y, t)\n",
    "  #print('loss 함수에서 loss값 리턴:', loss)\n",
    "  return loss"
   ]
  },
  {
   "cell_type": "code",
   "execution_count": 23,
   "metadata": {
    "id": "xaG1dZKGKRD_"
   },
   "outputs": [],
   "source": [
    "def f(W):\n",
    "  return loss(x, t)"
   ]
  },
  {
   "cell_type": "code",
   "execution_count": 24,
   "metadata": {
    "colab": {
     "base_uri": "https://localhost:8080/"
    },
    "id": "zSyeCt3McHb8",
    "outputId": "b68a8315-4f89-40c1-9258-3d4efdbd9352"
   },
   "outputs": [
    {
     "data": {
      "text/plain": [
       "array([[ 0.18734281, -0.21124154,  0.02389873],\n",
       "       [ 0.29974849, -0.33798647,  0.03823798]])"
      ]
     },
     "execution_count": 24,
     "metadata": {},
     "output_type": "execute_result"
    }
   ],
   "source": [
    "import numpy as np\n",
    "\n",
    "h = 1e-4                           # W = (W11, W21, W31\n",
    "grad = np.zeros((2, 3))            #     W12, W22, W32)\n",
    "#print('initial grad', grad)\n",
    "\n",
    "for idr, r in enumerate(W):     # (0, W1 W2 W3)  0은 인덱스\n",
    "  #print(r, '\\n')\n",
    "  for idx in range(r.size):\n",
    "    #print('\\n시작:', r[idx])\n",
    "    tmp = r[idx]\n",
    "    \n",
    "    r[idx] = tmp+h                         \n",
    "    #print('W값의 변화', W)\n",
    "    fxh1 = f(W)                                  #f(W+h)   \n",
    "    #print('fxh1값',  fxh1)\n",
    "    \n",
    "    #print('W값의 변화 2', W)  \n",
    "    r[idx] = tmp-h                               #f(W-h)\n",
    "    fxh2 = loss(x, t)\n",
    "    #print('fxh2값',  fxh2)\n",
    "\n",
    "    grad[idr, idx]=(fxh1-fxh2)/(2*h)\n",
    "    r[idx] = tmp                               # 원래 W값으로 변경\n",
    "    #print(grad[idr, idx])                        # for문 통해 W 전체 기울기 값으로 변경\n",
    "\n",
    "grad\n",
    "\n",
    "#array([[ 1.62434536, -0.61175641, -0.52817175],\n",
    "#       [-1.07296862,  0.86540763, -2.3015387 ]])"
   ]
  }
 ],
 "metadata": {
  "colab": {
   "collapsed_sections": [],
   "provenance": []
  },
  "kernelspec": {
   "display_name": "Python 3 (ipykernel)",
   "language": "python",
   "name": "python3"
  },
  "language_info": {
   "codemirror_mode": {
    "name": "ipython",
    "version": 3
   },
   "file_extension": ".py",
   "mimetype": "text/x-python",
   "name": "python",
   "nbconvert_exporter": "python",
   "pygments_lexer": "ipython3",
   "version": "3.9.12"
  }
 },
 "nbformat": 4,
 "nbformat_minor": 1
}
